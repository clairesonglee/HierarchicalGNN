{
 "cells": [
  {
   "cell_type": "code",
   "execution_count": null,
   "metadata": {},
   "outputs": [],
   "source": [
    "%load_ext autoreload\n",
    "%autoreload 2"
   ]
  },
  {
   "cell_type": "code",
   "execution_count": null,
   "metadata": {},
   "outputs": [],
   "source": [
    "ROOT_PATH = \"/global/cfs/cdirs/m3443/usr/ryanliu/TrackML/TrackML_1GeV/\""
   ]
  },
  {
   "cell_type": "markdown",
   "metadata": {},
   "source": [
    "### Imports\n",
    "Import model_selector which takes model **name/ID** as input and annitialize the model according to the default configuration yaml file in **Modules/MODEL_NAME/Configs** and an optional input dictionary which contain the parameters one would like to overwrite. \n",
    "\n",
    "Here's a list of model name/ID:\n",
    "- 1: Edge Classifier Based on Interaction Network (EC-IN)\n",
    "- 2: Node Embeddings Network Based on Interaction Network (Embedding-IN)\n",
    "- 3: Node Embeddings Network Based on Hierarchical GNN with GMM clustering (Embedding-HGNN-GMM)\n",
    "- 4: Bipartite Edge Classifier Based on Hierarchical GNN with GMM clustering (BC-HGNN-GMM)"
   ]
  },
  {
   "cell_type": "code",
   "execution_count": null,
   "metadata": {},
   "outputs": [],
   "source": [
    "# System imports\n",
    "import os\n",
    "import sys\n",
    "\n",
    "# External imports\n",
    "import torch\n",
    "from pytorch_lightning.loggers import WandbLogger\n",
    "from pytorch_lightning import Trainer\n",
    "from pytorch_lightning.callbacks import ModelCheckpoint\n",
    "\n",
    "sys.path.append('..')\n",
    "\n",
    "from Modules.training_utils import model_selector, kaiming_init, load_from_pretrained\n",
    "from Modules.tracking_utils import eval_metrics"
   ]
  },
  {
   "cell_type": "code",
   "execution_count": null,
   "metadata": {},
   "outputs": [],
   "source": [
    "checkpoint_callback = ModelCheckpoint(\n",
    "    monitor='track_eff',\n",
    "    mode=\"max\",\n",
    "    save_top_k=2,\n",
    "    save_last=True)"
   ]
  },
  {
   "cell_type": "markdown",
   "metadata": {
    "tags": []
   },
   "source": [
    "### Training a New Model"
   ]
  },
  {
   "cell_type": "code",
   "execution_count": null,
   "metadata": {},
   "outputs": [],
   "source": [
    "model_name = input(\"input model ID/name\")\n",
    "model = model_selector(model_name)\n",
    "kaiming_init(model)"
   ]
  },
  {
   "cell_type": "code",
   "execution_count": null,
   "metadata": {
    "scrolled": true,
    "tags": []
   },
   "outputs": [],
   "source": [
    "logger = WandbLogger(project=\"TrackML_1GeV\")\n",
    "trainer = Trainer(gpus=1, max_epochs=model.hparams[\"max_epochs\"], gradient_clip_val=0.5, logger=logger, num_sanity_val_steps=2, callbacks=[checkpoint_callback], log_every_n_steps = 50, default_root_dir=ROOT_PATH)\n",
    "trainer.fit(model)"
   ]
  },
  {
   "cell_type": "markdown",
   "metadata": {},
   "source": [
    "### Resume an interupted training"
   ]
  },
  {
   "cell_type": "code",
   "execution_count": null,
   "metadata": {},
   "outputs": [],
   "source": [
    "training_id = input(\"input the wandb run ID to resume the run\")\n",
    "model_path = \"{}{}/checkpoints/last.ckpt\".format(ROOT_PATH, training_id)\n",
    "ckpt = torch.load(model_path)\n",
    "model = model_selector(ckpt[\"hyper_parameters\"][\"model\"], ckpt[\"hyper_parameters\"])\n",
    "    \n",
    "logger = WandbLogger(project=\"TrackML_1GeV\", id = training_id)\n",
    "accumulator = GradientAccumulationScheduler(scheduling={0: 1, 4: 2, 8: 4})\n",
    "trainer = Trainer(gpus=1, max_epochs=ckpt[\"hyper_parameters\"][\"max_epochs\"], gradient_clip_val=0.5, logger=logger, num_sanity_val_steps=2, callbacks=[checkpoint_callback], log_every_n_steps = 50, default_root_dir=ROOT_PATH)\n",
    "trainer.fit(model, ckpt_path=\"{}{}/checkpoints/last.ckpt\".format(ROOT_PATH, training_id))"
   ]
  },
  {
   "cell_type": "markdown",
   "metadata": {
    "tags": []
   },
   "source": [
    "### Test\n",
    "Running test on test dataset"
   ]
  },
  {
   "cell_type": "code",
   "execution_count": null,
   "metadata": {},
   "outputs": [],
   "source": [
    "inference_config = {\n",
    "    \"majority_cut\": float(input(\"majority cut (0.5 for loose matching, 0.9 for strict matching, 1.0 for perfect matching\")),\n",
    "    \"score_cut\": 0.7\n",
    "}\n",
    "model_path = \"{}{}/checkpoints/\".format(ROOT_PATH, input(\"input the wandb run ID to load model's state dict\"))\n",
    "model_paths = os.listdir(model_path)\n",
    "model_paths.remove(\"last.ckpt\")\n",
    "ckpt_name = model_paths[0]\n",
    "for i in model_paths:\n",
    "    if int(i.strip(\"epoch=\").split(\"-\")[0]) > int(ckpt_name.strip(\"epoch=\").split(\"-\")[0]):\n",
    "        ckpt_name = i\n",
    "model_path = os.path.join(model_path, ckpt_name)\n",
    "\n",
    "ckpt = torch.load(model_path)\n",
    "sweep_configs = {**(ckpt[\"hyper_parameters\"]), **inference_config}\n",
    "\n",
    "model = model_selector(ckpt[\"hyper_parameters\"][\"model\"], sweep_configs)\n",
    "    \n",
    "model = load_from_pretrained(model, ckpt = ckpt)\n",
    "model.setup(\"test\")\n",
    "trainer = Trainer(gpus=1)\n",
    "test_results = trainer.test(model, model.test_dataloader())[0]"
   ]
  }
 ],
 "metadata": {
  "kernelspec": {
   "display_name": "RAPIDs",
   "language": "python",
   "name": "rapids"
  },
  "language_info": {
   "codemirror_mode": {
    "name": "ipython",
    "version": 3
   },
   "file_extension": ".py",
   "mimetype": "text/x-python",
   "name": "python",
   "nbconvert_exporter": "python",
   "pygments_lexer": "ipython3",
   "version": "3.8.13"
  }
 },
 "nbformat": 4,
 "nbformat_minor": 4
}
